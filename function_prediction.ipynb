{
  "nbformat": 4,
  "nbformat_minor": 0,
  "metadata": {
    "colab": {
      "name": "function_prediction.ipynb",
      "version": "0.3.2",
      "provenance": [],
      "include_colab_link": true
    },
    "kernelspec": {
      "name": "python3",
      "display_name": "Python 3"
    }
  },
  "cells": [
    {
      "cell_type": "markdown",
      "metadata": {
        "id": "view-in-github",
        "colab_type": "text"
      },
      "source": [
        "<a href=\"https://colab.research.google.com/github/ibrahimHeritch/Neural-Networks/blob/master/function_prediction.ipynb\" target=\"_parent\"><img src=\"https://colab.research.google.com/assets/colab-badge.svg\" alt=\"Open In Colab\"/></a>"
      ]
    },
    {
      "metadata": {
        "id": "O7crGJ5x_aSt",
        "colab_type": "code",
        "colab": {}
      },
      "cell_type": "code",
      "source": [
        "import numpy as np"
      ],
      "execution_count": 0,
      "outputs": []
    },
    {
      "metadata": {
        "id": "iC9gp-9i_jPy",
        "colab_type": "text"
      },
      "cell_type": "markdown",
      "source": [
        "Discription: This is my first Classification neural model. The idea is that I'll make a model that can classify a set of 2d-data as belonging to a specific type of function of 1 variable. For example, if the data is linear (in the form of y= ax+b) then the model should classify it as such. The 3 types of functions that I'll look at are:\n",
        "\n",
        "1.   Linear ((a*x)+b)\n",
        "2.   Quatratic (a*((X+b)**2)+d)\n",
        "3.    ((e*(X+g)**3)+d)\n",
        "\n",
        "The data will be created with a error of max/min  +-1 (this is to memic measurement error although I'm not sure why i chose +-1). The idea here is that if I measure a natural phenomenom this model would give me the nature of the equation that governs it. I'm not exactly sure how effective or useful this would be, but I think that working with mathematical data might give me a better intuition to how this works.\n",
        "\n",
        "\n",
        "\n",
        "\n",
        "\n",
        " "
      ]
    },
    {
      "metadata": {
        "id": "1GsOn4crBnbE",
        "colab_type": "code",
        "colab": {}
      },
      "cell_type": "code",
      "source": [
        "import random as rand"
      ],
      "execution_count": 0,
      "outputs": []
    },
    {
      "metadata": {
        "id": "tfzW15sZGOme",
        "colab_type": "code",
        "outputId": "19cad2e2-e1f6-4ee8-ca26-70d136b6fe28",
        "colab": {
          "base_uri": "https://localhost:8080/",
          "height": 364
        }
      },
      "cell_type": "code",
      "source": [
        "import matplotlib.pyplot as plot\n",
        "def linear():\n",
        "  a=rand.uniform(-1000,1000)\n",
        "  b=rand.uniform(-1000,1000)\n",
        "\n",
        "  return [((a*x)+b)+rand.uniform(-1,1) for x in range(-200,201)]\n",
        "plot.plot(range(-200,201),linear())"
      ],
      "execution_count": 71,
      "outputs": [
        {
          "output_type": "execute_result",
          "data": {
            "text/plain": [
              "[<matplotlib.lines.Line2D at 0x7fc062c930b8>]"
            ]
          },
          "metadata": {
            "tags": []
          },
          "execution_count": 71
        },
        {
          "output_type": "display_data",
          "data": {
            "image/png": "[encoded data removed]",
            "text/plain": [
              "<Figure size 576x396 with 1 Axes>"
            ]
          },
          "metadata": {
            "tags": []
          }
        }
      ]
    },
    {
      "metadata": {
        "id": "R1jLEp_PGzG7",
        "colab_type": "code",
        "outputId": "5f744a4c-5a86-4514-ce3f-257efdd152a4",
        "colab": {
          "base_uri": "https://localhost:8080/",
          "height": 375
        }
      },
      "cell_type": "code",
      "source": [
        "def quad():\n",
        "  #a(X+b)^2+cX+d\n",
        "  a=rand.uniform(-1000,1000)\n",
        "  b=rand.uniform(-1000,1000)\n",
        "  c=rand.uniform(-1000,1000)\n",
        "  d=rand.uniform(-1000,1000)\n",
        "  return [(a*((X+b)**2)+d)+rand.uniform(-1,1) for X in range(-200,201)]\n",
        "plot.plot(range(-200,201),quad())"
      ],
      "execution_count": 72,
      "outputs": [
        {
          "output_type": "execute_result",
          "data": {
            "text/plain": [
              "[<matplotlib.lines.Line2D at 0x7fc06dc56630>]"
            ]
          },
          "metadata": {
            "tags": []
          },
          "execution_count": 72
        },
        {
          "output_type": "display_data",
          "data": {
            "image/png": "[encoded data removed]",
            "text/plain": [
              "<Figure size 576x396 with 1 Axes>"
            ]
          },
          "metadata": {
            "tags": []
          }
        }
      ]
    },
    {
      "metadata": {
        "id": "cvSod32cHU2J",
        "colab_type": "code",
        "outputId": "9f864c66-c37f-4368-f62a-f33a5860c352",
        "colab": {
          "base_uri": "https://localhost:8080/",
          "height": 375
        }
      },
      "cell_type": "code",
      "source": [
        "def cube():\n",
        "  #e(X+g)^3+a(X+b)^2+cX+d \n",
        "  e=rand.uniform(-1000,1000)\n",
        "  g=rand.uniform(-1000,1000)\n",
        "  a=rand.uniform(-1000,1000)\n",
        "  b=rand.uniform(-1000,1000)\n",
        "  c=rand.uniform(-1000,1000)\n",
        "  d=rand.uniform(-1000,1000)\n",
        "  return [((e*(X+g)**3)+d)+rand.uniform(-1,1) for X in range(-200,201)]\n",
        "plot.plot(range(-200,201),cube())"
      ],
      "execution_count": 73,
      "outputs": [
        {
          "output_type": "execute_result",
          "data": {
            "text/plain": [
              "[<matplotlib.lines.Line2D at 0x7fc083f14b00>]"
            ]
          },
          "metadata": {
            "tags": []
          },
          "execution_count": 73
        },
        {
          "output_type": "display_data",
          "data": {
            "image/png": "[encoded data removed]",
            "text/plain": [
              "<Figure size 576x396 with 1 Axes>"
            ]
          },
          "metadata": {
            "tags": []
          }
        }
      ]
    },
    {
      "metadata": {
        "id": "lyuXWMZbMegO",
        "colab_type": "code",
        "outputId": "f2db9f45-ea77-48b4-9076-39673b93ed10",
        "colab": {
          "base_uri": "https://localhost:8080/",
          "height": 366
        }
      },
      "cell_type": "code",
      "source": [
        "def normalize(x):\n",
        "  m=np.mean(x)\n",
        "  sd=np.std(x)\n",
        "  return [(X-m)/sd for X in x]\n",
        "plot.plot(normalize(range(-200,201)),normalize(cube()))"
      ],
      "execution_count": 74,
      "outputs": [
        {
          "output_type": "execute_result",
          "data": {
            "text/plain": [
              "[<matplotlib.lines.Line2D at 0x7fc05e3d33c8>]"
            ]
          },
          "metadata": {
            "tags": []
          },
          "execution_count": 74
        },
        {
          "output_type": "display_data",
          "data": {
            "image/png": "[encoded data removed]",
            "text/plain": [
              "<Figure size 576x396 with 1 Axes>"
            ]
          },
          "metadata": {
            "tags": []
          }
        }
      ]
    },
    {
      "metadata": {
        "id": "wfAKLthKOUN3",
        "colab_type": "code",
        "outputId": "a4ad1298-e718-4ca4-d624-3e9eb3f23913",
        "colab": {
          "base_uri": "https://localhost:8080/",
          "height": 54
        }
      },
      "cell_type": "code",
      "source": [
        "Data=[[normalize(linear()),0] for _ in range(0,1001)]+[[normalize(quad()),1] for _ in range(0,901)]+[[normalize(cube()),2] for _ in range(0,1101)]\n",
        "print(Data[0])\n",
        "rand.shuffle(Data)"
      ],
      "execution_count": 75,
      "outputs": [
        {
          "output_type": "stream",
          "text": [
            "[[-1.7277407263343072, -1.7190937716952195, -1.7104500167090662, -1.70182914301709, -1.6931804141481672, -1.6845494460576207, -1.675909149037588, -1.667274941764343, -1.6586356825196111, -1.6499882846947618, -1.641351980922014, -1.6327045970527574, -1.6240716919453642, -1.6154383995257773, -1.6068006345579278, -1.5981659917782216, -1.589518013244227, -1.5808724679976847, -1.57224706500983, -1.5636059170690073, -1.5549623717748384, -1.5463149747026457, -1.5376877033907264, -1.5290541982782369, -1.5204012063675902, -1.5117691376389777, -1.503120855961551, -1.4945000571991744, -1.48585265130937, -1.4772112053051114, -1.4685720962869153, -1.4599327943883322, -1.4513030763560553, -1.4426551789144995, -1.4340145152909913, -1.4253802731794365, -1.4167498855240335, -1.4080957880804406, -1.3994607983110086, -1.3908288674924492, -1.3821974986184384, -1.3735569430332235, -1.3649117388393566, -1.3562805215311746, -1.3476305418834278, -1.3390024291568623, -1.3303580062955802, -1.3217116486861642, -1.31307045871385, -1.3044449470598924, -1.2957958439478703, -1.287172507892675, -1.2785209538779199, -1.2698775122903665, -1.2612480471810648, -1.2526138287503963, -1.243978301237332, -1.2353377896824926, -1.2266888596094623, -1.2180574478149988, -1.2094178854550899, -1.2007844103185819, -1.1921340015335176, -1.183502001237342, -1.174857903312633, -1.1662207973574832, -1.1575741323651685, -1.1489353294667886, -1.1403117885937541, -1.1316758814074512, -1.123038175565829, -1.1143971486102404, -1.1057476076055197, -1.0971146188430572, -1.0884691998414666, -1.0798331060912227, -1.071194250322775, -1.0625539550958696, -1.0539231943262457, -1.0452816020449087, -1.036641122114803, -1.027997529947679, -1.0193711940690406, -1.0107239235357715, -1.0020798293730528, -0.993441600544116, -0.9848169746129031, -0.9761809924977374, -0.96752573087954, -0.9588979612003694, -0.9502540007206801, -0.9416188679530237, -0.9329773969986368, -0.9243407621286, -0.9156956104698001, -0.9070676175659266, -0.8984293004851284, -0.8897889413795261, -0.8811439160712943, -0.8725149610344114, -0.8638746178409136, -0.8552348768761636, -0.8465824229922082, -0.8379481137086233, -0.8293183952286002, -0.8206659122053639, -0.8120388447666402, -0.8033929927909532, -0.7947603533948734, -0.7861197682349075, -0.7774875149659661, -0.7688426733102288, -0.7602050822420013, -0.7515561822008254, -0.742934344852682, -0.7342779382314031, -0.7256447456821427, -0.7170067386629184, -0.7083742394091156, -0.6997424382028384, -0.6910913180017096, -0.6824488842686817, -0.6738107761589949, -0.665182287839541, -0.6565412508375845, -0.6479073791658614, -0.6392632390739207, -0.6306310607193389, -0.6219810722967113, -0.6133523526168757, -0.6047061180403654, -0.5960634016130648, -0.58742911530736, -0.5787980639130703, -0.570146995019712, -0.561511686001433, -0.5528744247104055, -0.544233562261802, -0.5356036437239562, -0.5269547730760286, -0.518312373365436, -0.5096906758020425, -0.5010496707393584, -0.49241117260782863, -0.48376937574050505, -0.4751318871905972, -0.4664985751379268, -0.45785819853036375, -0.4492208747807128, -0.44056267379277103, -0.43193448131929646, -0.4232968776802956, -0.41465520766502817, -0.40602388703500836, -0.39737709942141203, -0.38873632259253493, -0.3801103720357182, -0.37146621903339877, -0.36282270028420904, -0.35418435488671457, -0.34553944534181136, -0.33690936919422937, -0.3282631964608131, -0.319631107069512, -0.31098877968644634, -0.3023622774388635, -0.29371163058127353, -0.2850703745969677, -0.27644594920738685, -0.26779169720729523, -0.25916027251045143, -0.25051301677985444, -0.24187426662110129, -0.23325251445753187, -0.2246143505581679, -0.21597352028792305, -0.20732055323836562, -0.19868649120472, -0.19004101610786542, -0.18141228453590053, -0.1727687831988962, -0.1641295001789647, -0.155496744860641, -0.1468643410046634, -0.138219977042353, -0.12957253763015367, -0.12094340772139074, -0.11231043894809678, -0.10365594278027893, -0.0950271139569655, -0.08639646718490021, -0.07774702818158116, -0.06910270740291259, -0.06047198598170323, -0.051824976460654835, -0.043187533471582, -0.034547748444567344, -0.025924727171297554, -0.01727744029266061, -0.008642198454192517, 2.2362751374811105e-06, 0.00864309268399124, 0.01728359066753129, 0.025919034474622942, 0.03455481210515793, 0.04320122077729825, 0.05184071178779521, 0.06047181972366764, 0.06911394021426527, 0.07775635854783335, 0.08639219324418103, 0.09503188067428653, 0.10367313118798822, 0.11231123328227374, 0.12094714846104647, 0.12958718461815175, 0.1382114422890876, 0.14685253230272496, 0.1555010236292517, 0.16414029102058061, 0.1727742580689141, 0.18140906005193946, 0.19005550989437242, 0.19868365150741168, 0.20733177291211025, 0.21595967334120533, 0.22460421544080736, 0.23324971770401862, 0.2418782102333352, 0.25051514509364226, 0.25915524327102724, 0.26780737893626727, 0.27642997810130837, 0.285080673165685, 0.2937083650779134, 0.3023571747332131, 0.31098433956825977, 0.3196233318820965, 0.32827236151420336, 0.3369132384154275, 0.34555491719042514, 0.3541837310661653, 0.3628204429731826, 0.3714629042332313, 0.3800965572633547, 0.3887398253833549, 0.3973853277245826, 0.40601551487620946, 0.41465242396697694, 0.42328758100989305, 0.431925526075873, 0.44057420698301725, 0.4492175264496349, 0.4578448542283074, 0.4664837993030877, 0.4751207685310912, 0.4837598337084903, 0.4924143927873598, 0.5010409398348121, 0.5096896308419111, 0.5183146789028165, 0.5269539783801641, 0.5355965584880796, 0.5442380614530506, 0.5528702030074012, 0.5615186106760393, 0.5701554764644617, 0.5787837654020488, 0.5874368886981299, 0.5960622452687352, 0.6047080889296247, 0.6133464852569367, 0.621986281635517, 0.6306211433561961, 0.6392669731396617, 0.6479002250774814, 0.6565402561668886, 0.6651782735676138, 0.6738202913206327, 0.682463592660078, 0.6910965709559553, 0.6997377489451221, 0.7083765341094048, 0.7170146305679237, 0.725641363281218, 0.7342841943910736, 0.7429352468860206, 0.7515612422759659, 0.76020859105611, 0.7688421890191006, 0.7774816494276063, 0.7861125840681294, 0.7947534661996328, 0.8033924768709969, 0.8120429857285337, 0.8206697810195482, 0.829321950262342, 0.8379532531813612, 0.846597538707499, 0.8552270216870916, 0.8638628769322436, 0.8725107288470667, 0.8811385557311939, 0.8897906657718551, 0.8984300537923277, 0.9070585733200403, 0.9157061594383977, 0.9243324813906274, 0.9329808387119577, 0.9416077818604889, 0.950258964242853, 0.9588884520295936, 0.9675370869219929, 0.9761785585793876, 0.9847997742476327, 0.9934439048346634, 1.0020851030982802, 1.0107309555944783, 1.0193581633323718, 1.0280081918232424, 1.0366506297294364, 1.0452736856274187, 1.0539092447157403, 1.0625589668878523, 1.0711921132057005, 1.0798421192275074, 1.0884732822846444, 1.0971060963035706, 1.10574534146891, 1.114393663307598, 1.1230223094975817, 1.1316582958734822, 1.1403153471632972, 1.1489415575441106, 1.1575737212100907, 1.1662179379109252, 1.1748574968893175, 1.1834993655906094, 1.1921377382316443, 1.2007738622446036, 1.2094192747585453, 1.2180570167201559, 1.2266901192236903, 1.2353353181453757, 1.2439737019895023, 1.252607227092019, 1.2612534607380737, 1.2698781521626012, 1.2785347292362126, 1.2871636411618743, 1.2958059668178228, 1.3044357039157306, 1.3130765262388266, 1.3217267730208129, 1.3303636745811003, 1.3390047267344813, 1.3476246856201437, 1.3562798723502383, 1.3649103184590452, 1.3735534349985128, 1.3821838959407267, 1.3908359723047705, 1.3994673411942744, 1.4080970628895542, 1.4167356888133844, 1.4253804376369985, 1.4340281916535018, 1.4426651107914006, 1.4513088284832851, 1.459932415183183, 1.4685769325941018, 1.4772085934537356, 1.4858514860688623, 1.4944929323465288, 1.503133393069568, 1.5117669942061371, 1.520406558680539, 1.5290494940750234, 1.5376883735936167, 1.5463314525335057, 1.554963848245714, 1.5636013860898141, 1.5722431657867517, 1.580875984171521, 1.5895264335945352, 1.5981537470241591, 1.6067969028147444, 1.6154411760211327, 1.6240632849242964, 1.6327078435435356, 1.6413464299795437, 1.6499907993229315, 1.658632829214781, 1.6672592340823043, 1.6759029577415414, 1.6845527947163554, 1.6931827784149203, 1.7018302120106246, 1.7104494523770157, 1.7190907688543802, 1.7277432018284018], 0]\n"
          ],
          "name": "stdout"
        }
      ]
    },
    {
      "metadata": {
        "id": "QTa27r5pTYiR",
        "colab_type": "code",
        "outputId": "3ad478e4-b29e-448c-daff-413e2703ec45",
        "colab": {
          "base_uri": "https://localhost:8080/",
          "height": 136
        }
      },
      "cell_type": "code",
      "source": [
        "import keras\n",
        "\n",
        "from keras.models import Sequential\n",
        "from keras.layers import Dense\n",
        "from keras.utils import to_categorical\n",
        "\n",
        "x_train=np.array([D[0] for D in Data])\n",
        "y_train=np.array(to_categorical([D[1] for D in Data]))\n",
        "test=[[normalize(linear()),0] for _ in range(0,3401)]+[[normalize(quad()),1] for _ in range(0,4002)] +[[normalize(cube()),2] for _ in range(0,5009)]\n",
        "rand.shuffle(test)\n",
        "x_test=np.array([D[0] for D in test])\n",
        "y_test=np.array(to_categorical([D[1] for D in test]))\n",
        "print(y_train)"
      ],
      "execution_count": 76,
      "outputs": [
        {
          "output_type": "stream",
          "text": [
            "[[1. 0. 0.]\n",
            " [1. 0. 0.]\n",
            " [0. 0. 1.]\n",
            " ...\n",
            " [0. 1. 0.]\n",
            " [0. 1. 0.]\n",
            " [0. 1. 0.]]\n"
          ],
          "name": "stdout"
        }
      ]
    },
    {
      "metadata": {
        "id": "zIytxOL0WOIs",
        "colab_type": "code",
        "colab": {}
      },
      "cell_type": "code",
      "source": [
        "def classification_model():\n",
        "    # create model\n",
        "    model = Sequential()\n",
        "    model.add(Dense(50, activation='elu', input_shape=(401,)))\n",
        "    model.add(Dense(50, activation='elu'))\n",
        "    model.add(Dense(50, activation='elu'))\n",
        "    model.add(Dense(50, activation='elu'))\n",
        "    model.add(Dense(3, activation='softmax'))\n",
        "    \n",
        "    \n",
        "    # compile model\n",
        "    model.compile(optimizer='adam', loss='categorical_crossentropy', metrics=['accuracy'])\n",
        "    return model"
      ],
      "execution_count": 0,
      "outputs": []
    },
    {
      "metadata": {
        "id": "LHiCKa2jYFM2",
        "colab_type": "code",
        "outputId": "b24aff1b-a374-4912-f6f4-27da3e72bf8b",
        "colab": {
          "base_uri": "https://localhost:8080/",
          "height": 5151
        }
      },
      "cell_type": "code",
      "source": [
        "# build the model\n",
        "model = classification_model()\n",
        "\n",
        "# fit the model\n",
        "model.fit(x_train, y_train, validation_data=(x_test, y_test), epochs=150, verbose=2)\n",
        "\n",
        "# evaluate the model\n",
        "print(model.evaluate(x_test, y_test, verbose=0))"
      ],
      "execution_count": 78,
      "outputs": [
        {
          "output_type": "stream",
          "text": [
            "Train on 3003 samples, validate on 12412 samples\n",
            "Epoch 1/150\n",
            " - 1s - loss: 0.8727 - acc: 0.5651 - val_loss: 0.5451 - val_acc: 0.7644\n",
            "Epoch 2/150\n",
            " - 0s - loss: 0.4183 - acc: 0.8055 - val_loss: 0.4041 - val_acc: 0.7954\n",
            "Epoch 3/150\n",
            " - 0s - loss: 0.3672 - acc: 0.8242 - val_loss: 0.3886 - val_acc: 0.8070\n",
            "Epoch 4/150\n",
            " - 0s - loss: 0.3496 - acc: 0.8335 - val_loss: 0.3941 - val_acc: 0.7895\n",
            "Epoch 5/150\n",
            " - 0s - loss: 0.3223 - acc: 0.8452 - val_loss: 0.3502 - val_acc: 0.8328\n",
            "Epoch 6/150\n",
            " - 0s - loss: 0.3179 - acc: 0.8372 - val_loss: 0.3513 - val_acc: 0.8250\n",
            "Epoch 7/150\n",
            " - 0s - loss: 0.3094 - acc: 0.8492 - val_loss: 0.3180 - val_acc: 0.8476\n",
            "Epoch 8/150\n",
            " - 1s - loss: 0.2969 - acc: 0.8591 - val_loss: 0.3433 - val_acc: 0.8375\n",
            "Epoch 9/150\n",
            " - 0s - loss: 0.2979 - acc: 0.8508 - val_loss: 0.2954 - val_acc: 0.8739\n",
            "Epoch 10/150\n",
            " - 0s - loss: 0.2799 - acc: 0.8648 - val_loss: 0.4230 - val_acc: 0.7519\n",
            "Epoch 11/150\n",
            " - 0s - loss: 0.2802 - acc: 0.8581 - val_loss: 0.3094 - val_acc: 0.8589\n",
            "Epoch 12/150\n",
            " - 1s - loss: 0.2552 - acc: 0.8748 - val_loss: 0.2808 - val_acc: 0.8648\n",
            "Epoch 13/150\n",
            " - 0s - loss: 0.2548 - acc: 0.8788 - val_loss: 0.2221 - val_acc: 0.8816\n",
            "Epoch 14/150\n",
            " - 1s - loss: 0.2499 - acc: 0.8711 - val_loss: 0.2491 - val_acc: 0.8767\n",
            "Epoch 15/150\n",
            " - 1s - loss: 0.2382 - acc: 0.8815 - val_loss: 0.2128 - val_acc: 0.8907\n",
            "Epoch 16/150\n",
            " - 0s - loss: 0.2428 - acc: 0.8778 - val_loss: 0.2029 - val_acc: 0.9129\n",
            "Epoch 17/150\n",
            " - 0s - loss: 0.1967 - acc: 0.9111 - val_loss: 0.2089 - val_acc: 0.8928\n",
            "Epoch 18/150\n",
            " - 1s - loss: 0.2795 - acc: 0.8625 - val_loss: 0.2633 - val_acc: 0.8987\n",
            "Epoch 19/150\n",
            " - 0s - loss: 0.2044 - acc: 0.8991 - val_loss: 0.3231 - val_acc: 0.8303\n",
            "Epoch 20/150\n",
            " - 0s - loss: 0.1899 - acc: 0.9151 - val_loss: 0.1620 - val_acc: 0.9437\n",
            "Epoch 21/150\n",
            " - 0s - loss: 0.1895 - acc: 0.9148 - val_loss: 0.4345 - val_acc: 0.8719\n",
            "Epoch 22/150\n",
            " - 1s - loss: 0.2103 - acc: 0.9034 - val_loss: 0.2665 - val_acc: 0.8602\n",
            "Epoch 23/150\n",
            " - 0s - loss: 0.1872 - acc: 0.9068 - val_loss: 0.2608 - val_acc: 0.8656\n",
            "Epoch 24/150\n",
            " - 1s - loss: 0.1795 - acc: 0.9138 - val_loss: 0.2602 - val_acc: 0.8517\n",
            "Epoch 25/150\n",
            " - 1s - loss: 0.1482 - acc: 0.9321 - val_loss: 0.1411 - val_acc: 0.9347\n",
            "Epoch 26/150\n",
            " - 0s - loss: 0.1436 - acc: 0.9317 - val_loss: 0.1113 - val_acc: 0.9969\n",
            "Epoch 27/150\n",
            " - 0s - loss: 0.1671 - acc: 0.9254 - val_loss: 0.1416 - val_acc: 0.9644\n",
            "Epoch 28/150\n",
            " - 1s - loss: 0.1354 - acc: 0.9397 - val_loss: 0.1332 - val_acc: 0.9473\n",
            "Epoch 29/150\n",
            " - 0s - loss: 0.1626 - acc: 0.9244 - val_loss: 0.1530 - val_acc: 0.9451\n",
            "Epoch 30/150\n",
            " - 1s - loss: 0.1339 - acc: 0.9437 - val_loss: 0.0683 - val_acc: 0.9983\n",
            "Epoch 31/150\n",
            " - 1s - loss: 0.1090 - acc: 0.9534 - val_loss: 0.1017 - val_acc: 0.9494\n",
            "Epoch 32/150\n",
            " - 0s - loss: 0.0919 - acc: 0.9587 - val_loss: 0.0469 - val_acc: 0.9994\n",
            "Epoch 33/150\n",
            " - 1s - loss: 0.0924 - acc: 0.9567 - val_loss: 0.1614 - val_acc: 0.9188\n",
            "Epoch 34/150\n",
            " - 1s - loss: 0.2041 - acc: 0.9134 - val_loss: 0.1075 - val_acc: 0.9558\n",
            "Epoch 35/150\n",
            " - 0s - loss: 0.1021 - acc: 0.9544 - val_loss: 0.0720 - val_acc: 0.9768\n",
            "Epoch 36/150\n",
            " - 1s - loss: 0.1340 - acc: 0.9401 - val_loss: 0.0834 - val_acc: 0.9788\n",
            "Epoch 37/150\n",
            " - 1s - loss: 0.0608 - acc: 0.9804 - val_loss: 0.0400 - val_acc: 0.9932\n",
            "Epoch 38/150\n",
            " - 1s - loss: 0.1321 - acc: 0.9471 - val_loss: 0.0780 - val_acc: 0.9610\n",
            "Epoch 39/150\n",
            " - 0s - loss: 0.0720 - acc: 0.9740 - val_loss: 0.1994 - val_acc: 0.8886\n",
            "Epoch 40/150\n",
            " - 1s - loss: 0.1365 - acc: 0.9504 - val_loss: 0.1171 - val_acc: 0.9330\n",
            "Epoch 41/150\n",
            " - 0s - loss: 0.1207 - acc: 0.9564 - val_loss: 0.0566 - val_acc: 0.9965\n",
            "Epoch 42/150\n",
            " - 1s - loss: 0.0359 - acc: 0.9983 - val_loss: 0.0516 - val_acc: 0.9940\n",
            "Epoch 43/150\n",
            " - 0s - loss: 0.1282 - acc: 0.9477 - val_loss: 0.1438 - val_acc: 0.9097\n",
            "Epoch 44/150\n",
            " - 1s - loss: 0.0897 - acc: 0.9600 - val_loss: 0.1110 - val_acc: 0.9313\n",
            "Epoch 45/150\n",
            " - 1s - loss: 0.1616 - acc: 0.9331 - val_loss: 0.0686 - val_acc: 0.9805\n",
            "Epoch 46/150\n",
            " - 1s - loss: 0.0645 - acc: 0.9790 - val_loss: 0.0350 - val_acc: 0.9939\n",
            "Epoch 47/150\n",
            " - 1s - loss: 0.0856 - acc: 0.9680 - val_loss: 0.0984 - val_acc: 0.9428\n",
            "Epoch 48/150\n",
            " - 1s - loss: 0.0465 - acc: 0.9840 - val_loss: 0.0841 - val_acc: 0.9574\n",
            "Epoch 49/150\n",
            " - 1s - loss: 0.0561 - acc: 0.9807 - val_loss: 0.0211 - val_acc: 1.0000\n",
            "Epoch 50/150\n",
            " - 0s - loss: 0.1526 - acc: 0.9411 - val_loss: 0.1081 - val_acc: 0.9484\n",
            "Epoch 51/150\n",
            " - 1s - loss: 0.0412 - acc: 0.9907 - val_loss: 0.0178 - val_acc: 1.0000\n",
            "Epoch 52/150\n",
            " - 1s - loss: 0.1829 - acc: 0.9481 - val_loss: 0.0803 - val_acc: 0.9579\n",
            "Epoch 53/150\n",
            " - 0s - loss: 0.0534 - acc: 0.9860 - val_loss: 0.1038 - val_acc: 0.9427\n",
            "Epoch 54/150\n",
            " - 1s - loss: 0.0305 - acc: 0.9950 - val_loss: 0.0262 - val_acc: 1.0000\n",
            "Epoch 55/150\n",
            " - 0s - loss: 0.1836 - acc: 0.9391 - val_loss: 0.1760 - val_acc: 0.8980\n",
            "Epoch 56/150\n",
            " - 1s - loss: 0.1017 - acc: 0.9624 - val_loss: 0.4927 - val_acc: 0.7992\n",
            "Epoch 57/150\n",
            " - 1s - loss: 0.1566 - acc: 0.9291 - val_loss: 0.0491 - val_acc: 0.9970\n",
            "Epoch 58/150\n",
            " - 1s - loss: 0.0403 - acc: 0.9930 - val_loss: 0.0224 - val_acc: 1.0000\n",
            "Epoch 59/150\n",
            " - 1s - loss: 0.0180 - acc: 0.9997 - val_loss: 0.0134 - val_acc: 1.0000\n",
            "Epoch 60/150\n",
            " - 1s - loss: 0.0237 - acc: 0.9933 - val_loss: 0.0091 - val_acc: 1.0000\n",
            "Epoch 61/150\n",
            " - 1s - loss: 0.1435 - acc: 0.9537 - val_loss: 0.2211 - val_acc: 0.9177\n",
            "Epoch 62/150\n",
            " - 1s - loss: 0.0629 - acc: 0.9804 - val_loss: 0.0236 - val_acc: 1.0000\n",
            "Epoch 63/150\n",
            " - 0s - loss: 0.0296 - acc: 0.9900 - val_loss: 0.0487 - val_acc: 0.9816\n",
            "Epoch 64/150\n",
            " - 0s - loss: 0.1511 - acc: 0.9597 - val_loss: 0.1337 - val_acc: 0.9377\n",
            "Epoch 65/150\n",
            " - 0s - loss: 0.0879 - acc: 0.9664 - val_loss: 0.0343 - val_acc: 1.0000\n",
            "Epoch 66/150\n",
            " - 0s - loss: 0.1029 - acc: 0.9610 - val_loss: 0.0751 - val_acc: 0.9693\n",
            "Epoch 67/150\n",
            " - 1s - loss: 0.0319 - acc: 0.9960 - val_loss: 0.0176 - val_acc: 0.9989\n",
            "Epoch 68/150\n",
            " - 1s - loss: 0.0120 - acc: 0.9997 - val_loss: 0.0097 - val_acc: 1.0000\n",
            "Epoch 69/150\n",
            " - 1s - loss: 0.0734 - acc: 0.9770 - val_loss: 0.0266 - val_acc: 1.0000\n",
            "Epoch 70/150\n",
            " - 1s - loss: 0.2429 - acc: 0.9138 - val_loss: 0.1058 - val_acc: 0.9761\n",
            "Epoch 71/150\n",
            " - 1s - loss: 0.0858 - acc: 0.9664 - val_loss: 0.0337 - val_acc: 0.9998\n",
            "Epoch 72/150\n",
            " - 1s - loss: 0.0290 - acc: 0.9970 - val_loss: 0.0201 - val_acc: 0.9982\n",
            "Epoch 73/150\n",
            " - 1s - loss: 0.0231 - acc: 0.9940 - val_loss: 0.0126 - val_acc: 0.9978\n",
            "Epoch 74/150\n",
            " - 1s - loss: 0.2101 - acc: 0.9434 - val_loss: 0.0465 - val_acc: 1.0000\n",
            "Epoch 75/150\n",
            " - 1s - loss: 0.0419 - acc: 0.9913 - val_loss: 0.0171 - val_acc: 1.0000\n",
            "Epoch 76/150\n",
            " - 1s - loss: 0.0464 - acc: 0.9817 - val_loss: 0.0511 - val_acc: 0.9712\n",
            "Epoch 77/150\n",
            " - 1s - loss: 0.0134 - acc: 0.9983 - val_loss: 0.0073 - val_acc: 1.0000\n",
            "Epoch 78/150\n",
            " - 1s - loss: 0.0237 - acc: 0.9923 - val_loss: 0.0179 - val_acc: 1.0000\n",
            "Epoch 79/150\n",
            " - 0s - loss: 0.0075 - acc: 1.0000 - val_loss: 0.0038 - val_acc: 1.0000\n",
            "Epoch 80/150\n",
            " - 1s - loss: 0.0035 - acc: 1.0000 - val_loss: 0.0031 - val_acc: 1.0000\n",
            "Epoch 81/150\n",
            " - 0s - loss: 0.0027 - acc: 1.0000 - val_loss: 0.0023 - val_acc: 1.0000\n",
            "Epoch 82/150\n",
            " - 1s - loss: 0.1333 - acc: 0.9717 - val_loss: 1.1827 - val_acc: 0.6843\n",
            "Epoch 83/150\n",
            " - 0s - loss: 0.2056 - acc: 0.9271 - val_loss: 0.0316 - val_acc: 0.9959\n",
            "Epoch 84/150\n",
            " - 0s - loss: 0.0693 - acc: 0.9727 - val_loss: 0.0252 - val_acc: 0.9970\n",
            "Epoch 85/150\n",
            " - 0s - loss: 0.0236 - acc: 0.9947 - val_loss: 0.0111 - val_acc: 1.0000\n",
            "Epoch 86/150\n",
            " - 0s - loss: 0.0103 - acc: 0.9993 - val_loss: 0.0075 - val_acc: 1.0000\n",
            "Epoch 87/150\n",
            " - 0s - loss: 0.0181 - acc: 0.9950 - val_loss: 0.0684 - val_acc: 0.9776\n",
            "Epoch 88/150\n",
            " - 0s - loss: 0.1183 - acc: 0.9617 - val_loss: 0.0205 - val_acc: 1.0000\n",
            "Epoch 89/150\n",
            " - 0s - loss: 0.0962 - acc: 0.9637 - val_loss: 0.0437 - val_acc: 0.9909\n",
            "Epoch 90/150\n",
            " - 0s - loss: 0.0179 - acc: 0.9980 - val_loss: 0.0096 - val_acc: 1.0000\n",
            "Epoch 91/150\n",
            " - 0s - loss: 0.0167 - acc: 0.9947 - val_loss: 0.2075 - val_acc: 0.9123\n",
            "Epoch 92/150\n",
            " - 1s - loss: 0.1314 - acc: 0.9540 - val_loss: 0.0608 - val_acc: 0.9679\n",
            "Epoch 93/150\n",
            " - 1s - loss: 0.0110 - acc: 0.9993 - val_loss: 0.0118 - val_acc: 1.0000\n",
            "Epoch 94/150\n",
            " - 1s - loss: 0.0911 - acc: 0.9704 - val_loss: 0.0257 - val_acc: 0.9940\n",
            "Epoch 95/150\n",
            " - 1s - loss: 0.0147 - acc: 0.9983 - val_loss: 0.0078 - val_acc: 1.0000\n",
            "Epoch 96/150\n",
            " - 1s - loss: 0.0920 - acc: 0.9714 - val_loss: 0.0140 - val_acc: 1.0000\n",
            "Epoch 97/150\n",
            " - 1s - loss: 0.0105 - acc: 1.0000 - val_loss: 0.0062 - val_acc: 1.0000\n",
            "Epoch 98/150\n",
            " - 1s - loss: 0.1418 - acc: 0.9517 - val_loss: 0.1497 - val_acc: 0.9274\n",
            "Epoch 99/150\n",
            " - 0s - loss: 0.0530 - acc: 0.9850 - val_loss: 0.0167 - val_acc: 1.0000\n",
            "Epoch 100/150\n",
            " - 1s - loss: 0.0099 - acc: 1.0000 - val_loss: 0.0069 - val_acc: 1.0000\n",
            "Epoch 101/150\n",
            " - 1s - loss: 0.0060 - acc: 1.0000 - val_loss: 0.0042 - val_acc: 1.0000\n",
            "Epoch 102/150\n",
            " - 1s - loss: 0.0051 - acc: 1.0000 - val_loss: 0.0047 - val_acc: 1.0000\n",
            "Epoch 103/150\n",
            " - 1s - loss: 0.0038 - acc: 1.0000 - val_loss: 0.0046 - val_acc: 1.0000\n",
            "Epoch 104/150\n",
            " - 1s - loss: 0.0028 - acc: 1.0000 - val_loss: 0.0021 - val_acc: 1.0000\n",
            "Epoch 105/150\n",
            " - 1s - loss: 0.0018 - acc: 1.0000 - val_loss: 0.0014 - val_acc: 1.0000\n",
            "Epoch 106/150\n",
            " - 1s - loss: 0.0012 - acc: 1.0000 - val_loss: 0.0014 - val_acc: 1.0000\n",
            "Epoch 107/150\n",
            " - 1s - loss: 0.0011 - acc: 1.0000 - val_loss: 0.0010 - val_acc: 1.0000\n",
            "Epoch 108/150\n",
            " - 1s - loss: 0.0011 - acc: 1.0000 - val_loss: 8.8242e-04 - val_acc: 1.0000\n",
            "Epoch 109/150\n",
            " - 1s - loss: 0.0010 - acc: 1.0000 - val_loss: 9.1164e-04 - val_acc: 1.0000\n",
            "Epoch 110/150\n",
            " - 1s - loss: 7.7488e-04 - acc: 1.0000 - val_loss: 6.2908e-04 - val_acc: 1.0000\n",
            "Epoch 111/150\n",
            " - 1s - loss: 6.2035e-04 - acc: 1.0000 - val_loss: 5.7951e-04 - val_acc: 1.0000\n",
            "Epoch 112/150\n",
            " - 1s - loss: 5.6181e-04 - acc: 1.0000 - val_loss: 6.0937e-04 - val_acc: 1.0000\n",
            "Epoch 113/150\n",
            " - 1s - loss: 5.3039e-04 - acc: 1.0000 - val_loss: 5.1222e-04 - val_acc: 1.0000\n",
            "Epoch 114/150\n",
            " - 1s - loss: 4.2264e-04 - acc: 1.0000 - val_loss: 7.0911e-04 - val_acc: 1.0000\n",
            "Epoch 115/150\n",
            " - 1s - loss: 8.0928e-04 - acc: 1.0000 - val_loss: 3.4882e-04 - val_acc: 1.0000\n",
            "Epoch 116/150\n",
            " - 1s - loss: 3.6542e-04 - acc: 1.0000 - val_loss: 4.2783e-04 - val_acc: 1.0000\n",
            "Epoch 117/150\n",
            " - 1s - loss: 3.2210e-04 - acc: 1.0000 - val_loss: 4.0402e-04 - val_acc: 1.0000\n",
            "Epoch 118/150\n",
            " - 1s - loss: 3.8250e-04 - acc: 1.0000 - val_loss: 2.9087e-04 - val_acc: 1.0000\n",
            "Epoch 119/150\n",
            " - 1s - loss: 2.7113e-04 - acc: 1.0000 - val_loss: 2.7047e-04 - val_acc: 1.0000\n",
            "Epoch 120/150\n",
            " - 0s - loss: 2.6442e-04 - acc: 1.0000 - val_loss: 3.9787e-04 - val_acc: 1.0000\n",
            "Epoch 121/150\n",
            " - 1s - loss: 2.1680e-04 - acc: 1.0000 - val_loss: 2.0422e-04 - val_acc: 1.0000\n",
            "Epoch 122/150\n",
            " - 1s - loss: 2.1094e-04 - acc: 1.0000 - val_loss: 2.1006e-04 - val_acc: 1.0000\n",
            "Epoch 123/150\n",
            " - 1s - loss: 1.7562e-04 - acc: 1.0000 - val_loss: 1.8309e-04 - val_acc: 1.0000\n",
            "Epoch 124/150\n",
            " - 1s - loss: 1.6492e-04 - acc: 1.0000 - val_loss: 1.6417e-04 - val_acc: 1.0000\n",
            "Epoch 125/150\n",
            " - 1s - loss: 1.5684e-04 - acc: 1.0000 - val_loss: 1.8541e-04 - val_acc: 1.0000\n",
            "Epoch 126/150\n",
            " - 1s - loss: 1.5502e-04 - acc: 1.0000 - val_loss: 1.3665e-04 - val_acc: 1.0000\n",
            "Epoch 127/150\n",
            " - 1s - loss: 1.3304e-04 - acc: 1.0000 - val_loss: 1.7248e-04 - val_acc: 1.0000\n",
            "Epoch 128/150\n",
            " - 1s - loss: 1.2577e-04 - acc: 1.0000 - val_loss: 1.2357e-04 - val_acc: 1.0000\n",
            "Epoch 129/150\n",
            " - 1s - loss: 1.2548e-04 - acc: 1.0000 - val_loss: 1.1669e-04 - val_acc: 1.0000\n",
            "Epoch 130/150\n",
            " - 1s - loss: 1.0590e-04 - acc: 1.0000 - val_loss: 1.0207e-04 - val_acc: 1.0000\n",
            "Epoch 131/150\n",
            " - 0s - loss: 0.1273 - acc: 0.9840 - val_loss: 1.6297 - val_acc: 0.7972\n",
            "Epoch 132/150\n",
            " - 1s - loss: 0.5586 - acc: 0.8598 - val_loss: 0.0917 - val_acc: 0.9708\n",
            "Epoch 133/150\n",
            " - 0s - loss: 0.1306 - acc: 0.9394 - val_loss: 0.0669 - val_acc: 0.9842\n",
            "Epoch 134/150\n",
            " - 1s - loss: 0.1252 - acc: 0.9507 - val_loss: 0.0449 - val_acc: 0.9972\n",
            "Epoch 135/150\n",
            " - 1s - loss: 0.0302 - acc: 0.9970 - val_loss: 0.0238 - val_acc: 0.9923\n",
            "Epoch 136/150\n",
            " - 1s - loss: 0.2326 - acc: 0.9158 - val_loss: 0.0607 - val_acc: 0.9945\n",
            "Epoch 137/150\n",
            " - 0s - loss: 0.0539 - acc: 0.9847 - val_loss: 0.0270 - val_acc: 0.9940\n",
            "Epoch 138/150\n",
            " - 1s - loss: 0.0180 - acc: 0.9980 - val_loss: 0.0327 - val_acc: 0.9888\n",
            "Epoch 139/150\n",
            " - 0s - loss: 0.1903 - acc: 0.9354 - val_loss: 0.4433 - val_acc: 0.8482\n",
            "Epoch 140/150\n",
            " - 1s - loss: 0.1161 - acc: 0.9537 - val_loss: 0.0857 - val_acc: 0.9491\n",
            "Epoch 141/150\n",
            " - 1s - loss: 0.0364 - acc: 0.9913 - val_loss: 0.0131 - val_acc: 1.0000\n",
            "Epoch 142/150\n",
            " - 0s - loss: 0.0123 - acc: 1.0000 - val_loss: 0.0382 - val_acc: 0.9882\n",
            "Epoch 143/150\n",
            " - 0s - loss: 0.1833 - acc: 0.9334 - val_loss: 0.0565 - val_acc: 0.9861\n",
            "Epoch 144/150\n",
            " - 1s - loss: 0.0815 - acc: 0.9760 - val_loss: 0.6165 - val_acc: 0.7542\n",
            "Epoch 145/150\n",
            " - 1s - loss: 0.1134 - acc: 0.9584 - val_loss: 0.0183 - val_acc: 1.0000\n",
            "Epoch 146/150\n",
            " - 0s - loss: 0.0119 - acc: 0.9997 - val_loss: 0.0089 - val_acc: 1.0000\n",
            "Epoch 147/150\n",
            " - 0s - loss: 0.0061 - acc: 1.0000 - val_loss: 0.0042 - val_acc: 1.0000\n",
            "Epoch 148/150\n",
            " - 1s - loss: 0.0037 - acc: 1.0000 - val_loss: 0.0067 - val_acc: 1.0000\n",
            "Epoch 149/150\n",
            " - 0s - loss: 0.0030 - acc: 1.0000 - val_loss: 0.0025 - val_acc: 1.0000\n",
            "Epoch 150/150\n",
            " - 0s - loss: 0.0645 - acc: 0.9807 - val_loss: 0.1496 - val_acc: 0.9367\n",
            "[0.14958205665250124, 0.9366741863097677]\n"
          ],
          "name": "stdout"
        }
      ]
    },
    {
      "metadata": {
        "id": "CZmq6Xp82pjO",
        "colab_type": "code",
        "colab": {
          "base_uri": "https://localhost:8080/",
          "height": 34
        },
        "outputId": "8046fc81-1375-4e17-a8c2-4316e7afb39f"
      },
      "cell_type": "code",
      "source": [
        "print(model.predict(np.array([[(x**3*1.1)+(x**2*1.1)+2.3*x for x in range(-200,201)]])))\n",
        "\n"
      ],
      "execution_count": 79,
      "outputs": [
        {
          "output_type": "stream",
          "text": [
            "[[0. 0. 1.]]\n"
          ],
          "name": "stdout"
        }
      ]
    },
    {
      "metadata": {
        "id": "Lo6ytbM07WRv",
        "colab_type": "code",
        "colab": {
          "base_uri": "https://localhost:8080/",
          "height": 34
        },
        "outputId": "d3e3ffcd-ae45-4cff-b9d8-fd339b144bcf"
      },
      "cell_type": "code",
      "source": [
        "print(model.predict(np.array([[(x**3*0.0000001)+(x**2*0.00000001)+2000.3*x for x in range(-200,201)]])))"
      ],
      "execution_count": 80,
      "outputs": [
        {
          "output_type": "stream",
          "text": [
            "[[0. 1. 0.]]\n"
          ],
          "name": "stdout"
        }
      ]
    },
    {
      "metadata": {
        "id": "Zm6Qdz277gDY",
        "colab_type": "code",
        "colab": {
          "base_uri": "https://localhost:8080/",
          "height": 34
        },
        "outputId": "fc8a7669-83f7-471e-cec8-b2a5f3d2b900"
      },
      "cell_type": "code",
      "source": [
        "print(model.predict(np.array([[(x**3*0.006)+(x**2*2000.0)+2.3*x for x in range(-200,201)]])))"
      ],
      "execution_count": 81,
      "outputs": [
        {
          "output_type": "stream",
          "text": [
            "[[0. 1. 0.]]\n"
          ],
          "name": "stdout"
        }
      ]
    },
    {
      "metadata": {
        "id": "Tseh3Gjn7dXb",
        "colab_type": "text"
      },
      "cell_type": "markdown",
      "source": [
        "Coefficients play a role"
      ]
    }
  ]
}
