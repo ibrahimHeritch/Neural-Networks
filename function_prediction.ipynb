{
  "nbformat": 4,
  "nbformat_minor": 0,
  "metadata": {
    "colab": {
      "name": "function_prediction.ipynb",
      "version": "0.3.2",
      "provenance": [],
      "include_colab_link": true
    },
    "kernelspec": {
      "name": "python3",
      "display_name": "Python 3"
    }
  },
  "cells": [
    {
      "cell_type": "markdown",
      "metadata": {
        "id": "view-in-github",
        "colab_type": "text"
      },
      "source": [
        "<a href=\"https://colab.research.google.com/github/ibrahimHeritch/Neural-Networks/blob/master/function_prediction.ipynb\" target=\"_parent\"><img src=\"https://colab.research.google.com/assets/colab-badge.svg\" alt=\"Open In Colab\"/></a>"
      ]
    },
    {
      "metadata": {
        "id": "O7crGJ5x_aSt",
        "colab_type": "code",
        "colab": {}
      },
      "cell_type": "code",
      "source": [
        "import numpy as np"
      ],
      "execution_count": 0,
      "outputs": []
    },
    {
      "metadata": {
        "id": "iC9gp-9i_jPy",
        "colab_type": "text"
      },
      "cell_type": "markdown",
      "source": [
        "Rules:\n",
        " 1) Data from 1 to 100\n",
        " 2) fixed interval between input (1 unit)\n",
        " 3) 1 variable\n",
        " 4) Equation Types: linear, quadratic, cubic, hyperbolic, exponetial, square root\n",
        "  linear: aX+b\n",
        "  Quadratic: a(X+b)^2+cX+d\n",
        "  cubic: e(X+g)^3+a(X+b)^2+cX+d\n",
        "  hyperbolic: a/(bX+c)+d\n",
        "  exponential: ae^(b(X+c))+d\n",
        "  sgrt: a sqrt(b(X+c))+d\n",
        " "
      ]
    },
    {
      "metadata": {
        "id": "1GsOn4crBnbE",
        "colab_type": "code",
        "colab": {}
      },
      "cell_type": "code",
      "source": [
        "import random as rand"
      ],
      "execution_count": 0,
      "outputs": []
    },
    {
      "metadata": {
        "id": "tfzW15sZGOme",
        "colab_type": "code",
        "outputId": "f7611bda-1f2b-442e-d769-28b581ee5a1b",
        "colab": {
          "base_uri": "https://localhost:8080/",
          "height": 364
        }
      },
      "cell_type": "code",
      "source": [
        "import matplotlib.pyplot as plot\n",
        "def linear():\n",
        "  a=rand.uniform(-1000,1000)\n",
        "  b=rand.uniform(-1000,1000)\n",
        "\n",
        "  return [((a*x)+b)+rand.uniform(-1,1) for x in range(-200,201)]\n",
        "plot.plot(range(-200,201),linear())"
      ],
      "execution_count": 46,
      "outputs": [
        {
          "output_type": "execute_result",
          "data": {
            "text/plain": [
              "[<matplotlib.lines.Line2D at 0x7fc070c8bb38>]"
            ]
          },
          "metadata": {
            "tags": []
          },
          "execution_count": 46
        },
        {
          "output_type": "display_data",
          "data": {
            "image/png": "[encoded data removed]",
            "text/plain": [
              "<Figure size 576x396 with 1 Axes>"
            ]
          },
          "metadata": {
            "tags": []
          }
        }
      ]
    },
    {
      "metadata": {
        "id": "R1jLEp_PGzG7",
        "colab_type": "code",
        "outputId": "91f41283-1780-42a7-f28e-d2da1fe5d430",
        "colab": {
          "base_uri": "https://localhost:8080/",
          "height": 375
        }
      },
      "cell_type": "code",
      "source": [
        "def quad():\n",
        "  #a(X+b)^2+cX+d\n",
        "  a=rand.uniform(-1000,1000)\n",
        "  b=rand.uniform(-1000,1000)\n",
        "  c=rand.uniform(-1000,1000)\n",
        "  d=rand.uniform(-1000,1000)\n",
        "  return [(a*((X+b)**2)+d)+rand.uniform(-1,1) for X in range(-200,201)]\n",
        "plot.plot(range(-200,201),quad())"
      ],
      "execution_count": 47,
      "outputs": [
        {
          "output_type": "execute_result",
          "data": {
            "text/plain": [
              "[<matplotlib.lines.Line2D at 0x7fc06d692c18>]"
            ]
          },
          "metadata": {
            "tags": []
          },
          "execution_count": 47
        },
        {
          "output_type": "display_data",
          "data": {
            "image/png": "[encoded data removed]",
            "text/plain": [
              "<Figure size 576x396 with 1 Axes>"
            ]
          },
          "metadata": {
            "tags": []
          }
        }
      ]
    },
    {
      "metadata": {
        "id": "cvSod32cHU2J",
        "colab_type": "code",
        "outputId": "76a80b0e-b0c0-4d96-b784-0c9cbf41eea6",
        "colab": {
          "base_uri": "https://localhost:8080/",
          "height": 375
        }
      },
      "cell_type": "code",
      "source": [
        "def cube():\n",
        "  #e(X+g)^3+a(X+b)^2+cX+d \n",
        "  e=rand.uniform(-1000,1000)\n",
        "  g=rand.uniform(-1000,1000)\n",
        "  a=rand.uniform(-1000,1000)\n",
        "  b=rand.uniform(-1000,1000)\n",
        "  c=rand.uniform(-1000,1000)\n",
        "  d=rand.uniform(-1000,1000)\n",
        "  return [((e*(X+g)**3)+d)+rand.uniform(-1,1) for X in range(-200,201)]\n",
        "plot.plot(range(-200,201),cube())"
      ],
      "execution_count": 48,
      "outputs": [
        {
          "output_type": "execute_result",
          "data": {
            "text/plain": [
              "[<matplotlib.lines.Line2D at 0x7fc06e9ab0b8>]"
            ]
          },
          "metadata": {
            "tags": []
          },
          "execution_count": 48
        },
        {
          "output_type": "display_data",
          "data": {
            "image/png": "[encoded data removed]",
            "text/plain": [
              "<Figure size 576x396 with 1 Axes>"
            ]
          },
          "metadata": {
            "tags": []
          }
        }
      ]
    },
    {
      "metadata": {
        "id": "lyuXWMZbMegO",
        "colab_type": "code",
        "outputId": "fd2cd4ea-4236-4d20-f20d-4c8eb9883009",
        "colab": {
          "base_uri": "https://localhost:8080/",
          "height": 364
        }
      },
      "cell_type": "code",
      "source": [
        "def normalize(x):\n",
        "  m=np.mean(x)\n",
        "  sd=np.std(x)\n",
        "  return [(X-m)/sd for X in x]\n",
        "plot.plot(normalize(range(-200,201)),normalize(cube()))"
      ],
      "execution_count": 49,
      "outputs": [
        {
          "output_type": "execute_result",
          "data": {
            "text/plain": [
              "[<matplotlib.lines.Line2D at 0x7fc06c74dda0>]"
            ]
          },
          "metadata": {
            "tags": []
          },
          "execution_count": 49
        },
        {
          "output_type": "display_data",
          "data": {
            "image/png": "[encoded data removed]",
            "text/plain": [
              "<Figure size 576x396 with 1 Axes>"
            ]
          },
          "metadata": {
            "tags": []
          }
        }
      ]
    },
    {
      "metadata": {
        "id": "wfAKLthKOUN3",
        "colab_type": "code",
        "outputId": "1f1b3717-4fd3-4bc5-b3ed-616e3bba9b7f",
        "colab": {
          "base_uri": "https://localhost:8080/",
          "height": 54
        }
      },
      "cell_type": "code",
      "source": [
        "Data=[[normalize(linear()),0] for _ in range(0,1001)]+[[normalize(quad()),1] for _ in range(0,901)]+[[normalize(cube()),2] for _ in range(0,1101)]\n",
        "print(Data[0])\n",
        "rand.shuffle(Data)"
      ],
      "execution_count": 50,
      "outputs": [
        {
          "output_type": "stream",
          "text": [
            "[[-1.7277717311125822, -1.7191333539417495, -1.7104541674940774, -1.701801203387523, -1.6932142073574337, -1.6845356612234696, -1.6759258769766983, -1.6672481953018083, -1.6586441422662135, -1.6500234522566537, -1.641370947235148, -1.6327017384639733, -1.6240622664496382, -1.6154331025216784, -1.606825227319849, -1.5981708296549102, -1.5895533965574336, -1.5808386310745761, -1.5722166258347379, -1.56360444169811, -1.5549837814018712, -1.5462968870626281, -1.5377109915500635, -1.529021536207668, -1.520415446905263, -1.5117330700344547, -1.503113081012543, -1.4944936290546473, -1.4858417462720288, -1.4771764076387615, -1.4685818480558543, -1.459956157531483, -1.4512825668722267, -1.4426911887896188, -1.4340220066091602, -1.4253988431683837, -1.4167695851473145, -1.408130590094065, -1.3995019098166361, -1.3907978877857068, -1.3821512594258463, -1.3735838276925914, -1.364907096477893, -1.3562926320004896, -1.3476278555163783, -1.3389554057368724, -1.330354909368821, -1.3217502578444376, -1.3130994943874377, -1.3044579305323363, -1.29580792297663, -1.2871703126015284, -1.2785176551501034, -1.2698718735099637, -1.261270506920682, -1.2525970677777907, -1.2439653091549008, -1.2353479200635644, -1.2267242812973358, -1.218051881811212, -1.2094465338745024, -1.200812937610811, -1.192144881701827, -1.1835263121267747, -1.1748460794397557, -1.166256753077945, -1.1576101796300866, -1.1489176645190189, -1.1403316762638804, -1.1316979274358243, -1.1230393112563362, -1.1143687330988086, -1.1057375545991945, -1.0971371568077646, -1.0884747622114812, -1.0798444450795808, -1.0711652108391252, -1.0625482140543787, -1.0538878853390259, -1.0452553028141707, -1.0366187947952712, -1.0280191956941003, -1.0193302804275144, -1.0107163535250074, -1.002080390379385, -0.993409455992474, -0.9848108903340168, -0.9761690492058064, -0.9675317205635917, -0.958888212423944, -0.9502581514044918, -0.9415857020690268, -0.9329404107755045, -0.9243557025212413, -0.9157233867521315, -0.9070923683733507, -0.8983924125001538, -0.8897905705256677, -0.8811589529255613, -0.8725169569429497, -0.8638654645743113, -0.8552667326927496, -0.8465640767565731, -0.8379269981438795, -0.8292966964502932, -0.8206893830770243, -0.8120496424548276, -0.8034054457020283, -0.7947353296972809, -0.7861241007759305, -0.7774968220474011, -0.7688781558642827, -0.760232754219561, -0.751585940625492, -0.7429636816835083, -0.7343054821865812, -0.7256257711859838, -0.7170185621782563, -0.708356735317495, -0.6997694058352206, -0.6910660052827523, -0.6824461086210534, -0.673787558148402, -0.6651423699743269, -0.6565205604324962, -0.6478697790284396, -0.6392846703980984, -0.6306328581847161, -0.621947658749473, -0.6133141511247611, -0.6047064218204128, -0.5960771094563853, -0.5874672453495091, -0.5787784511858752, -0.5701498241433643, -0.5614779499190427, -0.5528758879353649, -0.5442706092647375, -0.5356130273964392, -0.5269902200559048, -0.5182906166652292, -0.5097148067292374, -0.5010092543075854, -0.49239477611920224, -0.4837384982182603, -0.4750913781167704, -0.4664529556804993, -0.45786231475365635, -0.4491738725012575, -0.4405590877162497, -0.43193090261238076, -0.42327076615079573, -0.41468704989775435, -0.40603902939170566, -0.3973451037276875, -0.3887264813247978, -0.38007683655355834, -0.3714945959284661, -0.36281216231368224, -0.3541882682585217, -0.3455293465428308, -0.3368966080794029, -0.32829843496152555, -0.31960734518228956, -0.31101387107430173, -0.30231862750156535, -0.2937341636599956, -0.28504118784676685, -0.2764287236131691, -0.2678009363315615, -0.25919039411819195, -0.25055309432453143, -0.24185679546382005, -0.23321289492316938, -0.22461485613141918, -0.2159911816509907, -0.20730465617238888, -0.19865307286946254, -0.19004591763704048, -0.1814176278950598, -0.17273553148881507, -0.16416765795079508, -0.1554848668039953, -0.14685442278901342, -0.13823019809045864, -0.12954321386531187, -0.12093811530206801, -0.11231275288372874, -0.10364925429977352, -0.09500485994000146, -0.08638223360874109, -0.07776510994836208, -0.06910260163950568, -0.06050849339712901, -0.05184937135657382, -0.043158876661599226, -0.03454474736798588, -0.025883164079069314, -0.017289663803536987, -0.008606357740542954, -3.323272974736847e-05, 0.008605806017108109, 0.01727314402908046, 0.02590395148502011, 0.03457208399431953, 0.04320001113335346, 0.05179812942432345, 0.06050334792002816, 0.06912193843049429, 0.07777283926468125, 0.08637910949093952, 0.09505540737892255, 0.103630158588202, 0.11230286358311584, 0.12092005280732024, 0.12956086029574795, 0.13818170054182768, 0.14687881444665368, 0.15551049570854783, 0.16411010250510924, 0.1727494537226838, 0.18142493550614897, 0.1900741543690421, 0.19866101433856787, 0.2073090370483844, 0.21598160098940677, 0.2246434621521692, 0.2332103230576878, 0.24184500871864964, 0.25049553638894206, 0.25916488665735704, 0.267816608804008, 0.27641405278116143, 0.2851112065771829, 0.29371133007526795, 0.30239182316744045, 0.3110098792575098, 0.31964059563293773, 0.32828986604414717, 0.3369220616865127, 0.34552735441005533, 0.3542015469195671, 0.36281495110807893, 0.3714868709695478, 0.3801259524192116, 0.38876036428453403, 0.3973545909198531, 0.40603827137363946, 0.41465538715335587, 0.42332522286533675, 0.4319254660491873, 0.44055811972037723, 0.449233593798165, 0.4578337327427064, 0.46645609718089504, 0.47510283975417983, 0.48380053105461374, 0.492385955940156, 0.5010349340075579, 0.5096830507422601, 0.518284173759211, 0.5269300494686472, 0.5356171202950462, 0.5442026844371083, 0.5528913064800686, 0.5615254655622172, 0.5701832791715348, 0.5787694528961878, 0.5874273725230296, 0.596078389255202, 0.6047042084090789, 0.6133632071959829, 0.6219736956475378, 0.6306492284364811, 0.6392953680211341, 0.6479097072940692, 0.6565183624194535, 0.6651769354462325, 0.6737905495332213, 0.6824761074003194, 0.6910825277092535, 0.6997695071116741, 0.7083874384751745, 0.7170117970501263, 0.7256664984889521, 0.7343092690904033, 0.7429603491823523, 0.7515295920796953, 0.760197968468287, 0.7688337592280812, 0.7774650048021124, 0.7861013895553393, 0.7947586875104984, 0.803413156723044, 0.8120296138702263, 0.8206502014001043, 0.829348165525198, 0.8379839235062928, 0.846602234908746, 0.8551915451125309, 0.8638416075866622, 0.8724908344573407, 0.881151859004621, 0.889791185179964, 0.8983933911309485, 0.9070986528305454, 0.9156997098873506, 0.9243345944986423, 0.932941166083477, 0.9415941438085551, 0.950237230515365, 0.9588908379996525, 0.9675389320624569, 0.9761822895639746, 0.9848312231964584, 0.9934395996629434, 1.0021126311483137, 1.0107248990874058, 1.0193982582391572, 1.0279774502667978, 1.0366412607064286, 1.0453051994800209, 1.0538894457971542, 1.0625349784521065, 1.0712230889497218, 1.0798494029784476, 1.0884509644251317, 1.0970917586582225, 1.1057740386492376, 1.1143523798550072, 1.1230315054941669, 1.1316840985360836, 1.1403156965551628, 1.1489470157034092, 1.157603898738221, 1.1662573173626736, 1.1748268549228422, 1.183519038601462, 1.192171322032491, 1.2008096155978727, 1.209388311505902, 1.218025341733774, 1.2266619200628275, 1.235304530429343, 1.2440023534844271, 1.2526253832484044, 1.2612267247415418, 1.269852004892449, 1.2785520949899045, 1.2871676539728174, 1.2957941562294155, 1.3044126336891158, 1.3130419459744556, 1.3216946690305675, 1.3303228438500405, 1.3389715057947456, 1.3476571110995679, 1.3562753971365535, 1.3648893140386416, 1.3735599418905369, 1.3821992147074085, 1.3908452732100782, 1.399459459634784, 1.408138182943713, 1.4167305934180692, 1.425371229897688, 1.434043704746886, 1.4426932655856817, 1.4513350213918323, 1.4599615743373398, 1.4685769397700126, 1.4771764356395114, 1.4858815663242002, 1.4944960087221233, 1.503124263836792, 1.5117629382767568, 1.5204071065687823, 1.5290495476264532, 1.537658125550308, 1.5463410287526163, 1.554963454419528, 1.5635837099891627, 1.5722500466902483, 1.5808746907774534, 1.5894840076699273, 1.598161121339185, 1.6068042212394602, 1.615410135777339, 1.6240678725375468, 1.6327111354244246, 1.6413262129376731, 1.6499680439844644, 1.658610415775241, 1.6672995306057168, 1.675884644470921, 1.684548894499791, 1.6931596268076339, 1.701793196749711, 1.7104750487743297, 1.7190958543725834, 1.7277707637626911], 0]\n"
          ],
          "name": "stdout"
        }
      ]
    },
    {
      "metadata": {
        "id": "QTa27r5pTYiR",
        "colab_type": "code",
        "outputId": "9b753b69-a917-4d3c-88f8-3853d53ff31a",
        "colab": {
          "base_uri": "https://localhost:8080/",
          "height": 136
        }
      },
      "cell_type": "code",
      "source": [
        "import keras\n",
        "\n",
        "from keras.models import Sequential\n",
        "from keras.layers import Dense\n",
        "from keras.utils import to_categorical\n",
        "\n",
        "x_train=np.array([D[0] for D in Data])\n",
        "y_train=np.array(to_categorical([D[1] for D in Data]))\n",
        "test=[[normalize(linear()),0] for _ in range(0,3401)]+[[normalize(quad()),1] for _ in range(0,4002)] +[[normalize(cube()),2] for _ in range(0,5009)]\n",
        "rand.shuffle(test)\n",
        "x_test=np.array([D[0] for D in test])\n",
        "y_test=np.array(to_categorical([D[1] for D in test]))\n",
        "print(y_train)"
      ],
      "execution_count": 51,
      "outputs": [
        {
          "output_type": "stream",
          "text": [
            "[[0. 0. 1.]\n",
            " [0. 0. 1.]\n",
            " [1. 0. 0.]\n",
            " ...\n",
            " [0. 1. 0.]\n",
            " [1. 0. 0.]\n",
            " [0. 1. 0.]]\n"
          ],
          "name": "stdout"
        }
      ]
    },
    {
      "metadata": {
        "id": "zIytxOL0WOIs",
        "colab_type": "code",
        "colab": {}
      },
      "cell_type": "code",
      "source": [
        "def classification_model():\n",
        "    # create model\n",
        "    model = Sequential()\n",
        "    model.add(Dense(50, activation='elu', input_shape=(401,)))\n",
        "    model.add(Dense(50, activation='elu'))\n",
        "    model.add(Dense(50, activation='elu'))\n",
        "    model.add(Dense(50, activation='elu'))\n",
        "    model.add(Dense(3, activation='softmax'))\n",
        "    \n",
        "    \n",
        "    # compile model\n",
        "    model.compile(optimizer='adam', loss='categorical_crossentropy', metrics=['accuracy'])\n",
        "    return model"
      ],
      "execution_count": 0,
      "outputs": []
    },
    {
      "metadata": {
        "id": "LHiCKa2jYFM2",
        "colab_type": "code",
        "outputId": "ed4b1412-d28e-4d51-8cac-d02a6928b363",
        "colab": {
          "base_uri": "https://localhost:8080/",
          "height": 5151
        }
      },
      "cell_type": "code",
      "source": [
        "# build the model\n",
        "model = classification_model()\n",
        "\n",
        "# fit the model\n",
        "model.fit(x_train, y_train, validation_data=(x_test, y_test), epochs=150, verbose=2)\n",
        "\n",
        "# evaluate the model\n",
        "print(model.evaluate(x_test, y_test, verbose=0))"
      ],
      "execution_count": 53,
      "outputs": [
        {
          "output_type": "stream",
          "text": [
            "Train on 3003 samples, validate on 12412 samples\n",
            "Epoch 1/150\n",
            " - 1s - loss: 0.8708 - acc: 0.5621 - val_loss: 0.5469 - val_acc: 0.7345\n",
            "Epoch 2/150\n",
            " - 0s - loss: 0.4189 - acc: 0.8222 - val_loss: 0.3967 - val_acc: 0.8343\n",
            "Epoch 3/150\n",
            " - 0s - loss: 0.3534 - acc: 0.8375 - val_loss: 0.3858 - val_acc: 0.8336\n",
            "Epoch 4/150\n",
            " - 0s - loss: 0.3337 - acc: 0.8388 - val_loss: 0.3620 - val_acc: 0.8212\n",
            "Epoch 5/150\n",
            " - 0s - loss: 0.3158 - acc: 0.8541 - val_loss: 0.3512 - val_acc: 0.8311\n",
            "Epoch 6/150\n",
            " - 0s - loss: 0.3115 - acc: 0.8575 - val_loss: 0.3421 - val_acc: 0.8366\n",
            "Epoch 7/150\n",
            " - 0s - loss: 0.3025 - acc: 0.8591 - val_loss: 0.3336 - val_acc: 0.8460\n",
            "Epoch 8/150\n",
            " - 0s - loss: 0.2964 - acc: 0.8608 - val_loss: 0.3240 - val_acc: 0.8246\n",
            "Epoch 9/150\n",
            " - 0s - loss: 0.2828 - acc: 0.8665 - val_loss: 0.2994 - val_acc: 0.8443\n",
            "Epoch 10/150\n",
            " - 0s - loss: 0.2820 - acc: 0.8691 - val_loss: 0.2928 - val_acc: 0.8489\n",
            "Epoch 11/150\n",
            " - 0s - loss: 0.2629 - acc: 0.8751 - val_loss: 0.3254 - val_acc: 0.8467\n",
            "Epoch 12/150\n",
            " - 0s - loss: 0.2593 - acc: 0.8828 - val_loss: 0.2963 - val_acc: 0.8545\n",
            "Epoch 13/150\n",
            " - 0s - loss: 0.2459 - acc: 0.8785 - val_loss: 0.2494 - val_acc: 0.8823\n",
            "Epoch 14/150\n",
            " - 0s - loss: 0.2322 - acc: 0.8898 - val_loss: 0.2396 - val_acc: 0.8841\n",
            "Epoch 15/150\n",
            " - 0s - loss: 0.2572 - acc: 0.8701 - val_loss: 0.2908 - val_acc: 0.8466\n",
            "Epoch 16/150\n",
            " - 0s - loss: 0.2435 - acc: 0.8808 - val_loss: 0.2292 - val_acc: 0.8800\n",
            "Epoch 17/150\n",
            " - 0s - loss: 0.2320 - acc: 0.8891 - val_loss: 0.2475 - val_acc: 0.9019\n",
            "Epoch 18/150\n",
            " - 0s - loss: 0.2009 - acc: 0.9061 - val_loss: 0.2363 - val_acc: 0.8697\n",
            "Epoch 19/150\n",
            " - 0s - loss: 0.2231 - acc: 0.8918 - val_loss: 0.1935 - val_acc: 0.9003\n",
            "Epoch 20/150\n",
            " - 0s - loss: 0.1895 - acc: 0.9108 - val_loss: 0.1881 - val_acc: 0.8910\n",
            "Epoch 21/150\n",
            " - 0s - loss: 0.2578 - acc: 0.8864 - val_loss: 0.2051 - val_acc: 0.8958\n",
            "Epoch 22/150\n",
            " - 0s - loss: 0.2183 - acc: 0.8941 - val_loss: 0.2889 - val_acc: 0.8689\n",
            "Epoch 23/150\n",
            " - 0s - loss: 0.1902 - acc: 0.9058 - val_loss: 0.2554 - val_acc: 0.8402\n",
            "Epoch 24/150\n",
            " - 0s - loss: 0.1856 - acc: 0.9167 - val_loss: 0.1772 - val_acc: 0.9456\n",
            "Epoch 25/150\n",
            " - 0s - loss: 0.1793 - acc: 0.9177 - val_loss: 0.2075 - val_acc: 0.8953\n",
            "Epoch 26/150\n",
            " - 0s - loss: 0.1663 - acc: 0.9217 - val_loss: 0.1552 - val_acc: 0.9330\n",
            "Epoch 27/150\n",
            " - 0s - loss: 0.1575 - acc: 0.9314 - val_loss: 0.2171 - val_acc: 0.8853\n",
            "Epoch 28/150\n",
            " - 0s - loss: 0.1783 - acc: 0.9101 - val_loss: 0.1570 - val_acc: 0.9358\n",
            "Epoch 29/150\n",
            " - 0s - loss: 0.1236 - acc: 0.9467 - val_loss: 0.2733 - val_acc: 0.8775\n",
            "Epoch 30/150\n",
            " - 0s - loss: 0.2293 - acc: 0.8934 - val_loss: 0.1960 - val_acc: 0.8938\n",
            "Epoch 31/150\n",
            " - 0s - loss: 0.1408 - acc: 0.9387 - val_loss: 0.2621 - val_acc: 0.8878\n",
            "Epoch 32/150\n",
            " - 0s - loss: 0.1570 - acc: 0.9227 - val_loss: 0.1630 - val_acc: 0.9141\n",
            "Epoch 33/150\n",
            " - 0s - loss: 0.1567 - acc: 0.9237 - val_loss: 0.1211 - val_acc: 0.9919\n",
            "Epoch 34/150\n",
            " - 0s - loss: 0.1106 - acc: 0.9527 - val_loss: 0.1024 - val_acc: 0.9491\n",
            "Epoch 35/150\n",
            " - 0s - loss: 0.1475 - acc: 0.9291 - val_loss: 0.1631 - val_acc: 0.8901\n",
            "Epoch 36/150\n",
            " - 0s - loss: 0.1150 - acc: 0.9540 - val_loss: 0.0968 - val_acc: 0.9942\n",
            "Epoch 37/150\n",
            " - 1s - loss: 0.1180 - acc: 0.9447 - val_loss: 0.0990 - val_acc: 0.9637\n",
            "Epoch 38/150\n",
            " - 1s - loss: 0.0975 - acc: 0.9580 - val_loss: 0.1823 - val_acc: 0.9046\n",
            "Epoch 39/150\n",
            " - 0s - loss: 0.1379 - acc: 0.9404 - val_loss: 0.1224 - val_acc: 0.9376\n",
            "Epoch 40/150\n",
            " - 0s - loss: 0.1342 - acc: 0.9377 - val_loss: 0.1088 - val_acc: 0.9633\n",
            "Epoch 41/150\n",
            " - 0s - loss: 0.0935 - acc: 0.9650 - val_loss: 0.0933 - val_acc: 0.9461\n",
            "Epoch 42/150\n",
            " - 0s - loss: 0.0892 - acc: 0.9627 - val_loss: 0.0592 - val_acc: 0.9724\n",
            "Epoch 43/150\n",
            " - 1s - loss: 0.1018 - acc: 0.9590 - val_loss: 0.0631 - val_acc: 0.9821\n",
            "Epoch 44/150\n",
            " - 0s - loss: 0.1259 - acc: 0.9494 - val_loss: 0.0565 - val_acc: 0.9904\n",
            "Epoch 45/150\n",
            " - 0s - loss: 0.0553 - acc: 0.9843 - val_loss: 0.0559 - val_acc: 0.9823\n",
            "Epoch 46/150\n",
            " - 1s - loss: 0.0566 - acc: 0.9774 - val_loss: 0.4906 - val_acc: 0.8640\n",
            "Epoch 47/150\n",
            " - 0s - loss: 0.1856 - acc: 0.9241 - val_loss: 0.1492 - val_acc: 0.9430\n",
            "Epoch 48/150\n",
            " - 0s - loss: 0.0669 - acc: 0.9797 - val_loss: 0.1706 - val_acc: 0.9094\n",
            "Epoch 49/150\n",
            " - 0s - loss: 0.0862 - acc: 0.9634 - val_loss: 0.0354 - val_acc: 0.9948\n",
            "Epoch 50/150\n",
            " - 0s - loss: 0.1597 - acc: 0.9467 - val_loss: 0.1317 - val_acc: 0.9386\n",
            "Epoch 51/150\n",
            " - 0s - loss: 0.0969 - acc: 0.9624 - val_loss: 0.1250 - val_acc: 0.9304\n",
            "Epoch 52/150\n",
            " - 0s - loss: 0.0638 - acc: 0.9737 - val_loss: 0.0275 - val_acc: 1.0000\n",
            "Epoch 53/150\n",
            " - 0s - loss: 0.0229 - acc: 0.9983 - val_loss: 0.0136 - val_acc: 1.0000\n",
            "Epoch 54/150\n",
            " - 0s - loss: 0.0633 - acc: 0.9800 - val_loss: 0.0246 - val_acc: 1.0000\n",
            "Epoch 55/150\n",
            " - 0s - loss: 0.1756 - acc: 0.9524 - val_loss: 0.1471 - val_acc: 0.9360\n",
            "Epoch 56/150\n",
            " - 0s - loss: 0.1108 - acc: 0.9534 - val_loss: 0.0618 - val_acc: 0.9902\n",
            "Epoch 57/150\n",
            " - 0s - loss: 0.0540 - acc: 0.9847 - val_loss: 0.0243 - val_acc: 1.0000\n",
            "Epoch 58/150\n",
            " - 0s - loss: 0.0288 - acc: 0.9937 - val_loss: 0.2345 - val_acc: 0.8825\n",
            "Epoch 59/150\n",
            " - 0s - loss: 0.1921 - acc: 0.9437 - val_loss: 0.0494 - val_acc: 0.9965\n",
            "Epoch 60/150\n",
            " - 0s - loss: 0.0698 - acc: 0.9700 - val_loss: 0.1560 - val_acc: 0.9340\n",
            "Epoch 61/150\n",
            " - 0s - loss: 0.0483 - acc: 0.9820 - val_loss: 0.0761 - val_acc: 0.9680\n",
            "Epoch 62/150\n",
            " - 0s - loss: 0.0223 - acc: 0.9957 - val_loss: 0.0212 - val_acc: 0.9966\n",
            "Epoch 63/150\n",
            " - 0s - loss: 0.0861 - acc: 0.9714 - val_loss: 0.0287 - val_acc: 1.0000\n",
            "Epoch 64/150\n",
            " - 0s - loss: 0.0464 - acc: 0.9840 - val_loss: 0.1673 - val_acc: 0.9125\n",
            "Epoch 65/150\n",
            " - 0s - loss: 0.0762 - acc: 0.9650 - val_loss: 0.0343 - val_acc: 0.9901\n",
            "Epoch 66/150\n",
            " - 0s - loss: 0.0355 - acc: 0.9923 - val_loss: 0.1714 - val_acc: 0.9358\n",
            "Epoch 67/150\n",
            " - 0s - loss: 0.1526 - acc: 0.9461 - val_loss: 0.0439 - val_acc: 0.9971\n",
            "Epoch 68/150\n",
            " - 0s - loss: 0.0281 - acc: 0.9957 - val_loss: 0.0147 - val_acc: 1.0000\n",
            "Epoch 69/150\n",
            " - 0s - loss: 0.0307 - acc: 0.9890 - val_loss: 0.0165 - val_acc: 1.0000\n",
            "Epoch 70/150\n",
            " - 1s - loss: 0.0712 - acc: 0.9787 - val_loss: 0.1871 - val_acc: 0.9375\n",
            "Epoch 71/150\n",
            " - 0s - loss: 0.0494 - acc: 0.9814 - val_loss: 0.0317 - val_acc: 0.9894\n",
            "Epoch 72/150\n",
            " - 0s - loss: 0.0180 - acc: 0.9960 - val_loss: 0.0101 - val_acc: 1.0000\n",
            "Epoch 73/150\n",
            " - 0s - loss: 0.1074 - acc: 0.9644 - val_loss: 0.0943 - val_acc: 0.9540\n",
            "Epoch 74/150\n",
            " - 0s - loss: 0.1215 - acc: 0.9527 - val_loss: 0.0383 - val_acc: 0.9928\n",
            "Epoch 75/150\n",
            " - 0s - loss: 0.0872 - acc: 0.9647 - val_loss: 0.2601 - val_acc: 0.9210\n",
            "Epoch 76/150\n",
            " - 0s - loss: 0.0557 - acc: 0.9800 - val_loss: 0.0359 - val_acc: 0.9928\n",
            "Epoch 77/150\n",
            " - 0s - loss: 0.0429 - acc: 0.9860 - val_loss: 0.0151 - val_acc: 0.9995\n",
            "Epoch 78/150\n",
            " - 0s - loss: 0.0105 - acc: 0.9997 - val_loss: 0.0061 - val_acc: 1.0000\n",
            "Epoch 79/150\n",
            " - 0s - loss: 0.2160 - acc: 0.9431 - val_loss: 0.1261 - val_acc: 0.9573\n",
            "Epoch 80/150\n",
            " - 0s - loss: 0.2073 - acc: 0.9224 - val_loss: 0.0605 - val_acc: 0.9812\n",
            "Epoch 81/150\n",
            " - 0s - loss: 0.0516 - acc: 0.9847 - val_loss: 0.0210 - val_acc: 0.9997\n",
            "Epoch 82/150\n",
            " - 0s - loss: 0.0202 - acc: 0.9963 - val_loss: 0.0180 - val_acc: 1.0000\n",
            "Epoch 83/150\n",
            " - 0s - loss: 0.0088 - acc: 0.9997 - val_loss: 0.0099 - val_acc: 1.0000\n",
            "Epoch 84/150\n",
            " - 0s - loss: 0.1360 - acc: 0.9507 - val_loss: 0.0646 - val_acc: 0.9914\n",
            "Epoch 85/150\n",
            " - 0s - loss: 0.0263 - acc: 0.9973 - val_loss: 0.0102 - val_acc: 1.0000\n",
            "Epoch 86/150\n",
            " - 0s - loss: 0.0081 - acc: 1.0000 - val_loss: 0.0060 - val_acc: 1.0000\n",
            "Epoch 87/150\n",
            " - 0s - loss: 0.0675 - acc: 0.9853 - val_loss: 0.2972 - val_acc: 0.9010\n",
            "Epoch 88/150\n",
            " - 0s - loss: 0.0918 - acc: 0.9657 - val_loss: 0.0207 - val_acc: 1.0000\n",
            "Epoch 89/150\n",
            " - 0s - loss: 0.0215 - acc: 0.9957 - val_loss: 0.0098 - val_acc: 1.0000\n",
            "Epoch 90/150\n",
            " - 0s - loss: 0.0206 - acc: 0.9950 - val_loss: 0.0054 - val_acc: 1.0000\n",
            "Epoch 91/150\n",
            " - 0s - loss: 0.0046 - acc: 1.0000 - val_loss: 0.0033 - val_acc: 1.0000\n",
            "Epoch 92/150\n",
            " - 0s - loss: 0.0033 - acc: 1.0000 - val_loss: 0.0043 - val_acc: 1.0000\n",
            "Epoch 93/150\n",
            " - 0s - loss: 0.0023 - acc: 1.0000 - val_loss: 0.0017 - val_acc: 1.0000\n",
            "Epoch 94/150\n",
            " - 0s - loss: 0.0019 - acc: 1.0000 - val_loss: 0.0012 - val_acc: 1.0000\n",
            "Epoch 95/150\n",
            " - 0s - loss: 0.0011 - acc: 1.0000 - val_loss: 0.0012 - val_acc: 1.0000\n",
            "Epoch 96/150\n",
            " - 0s - loss: 0.1372 - acc: 0.9630 - val_loss: 0.2102 - val_acc: 0.9248\n",
            "Epoch 97/150\n",
            " - 0s - loss: 0.1085 - acc: 0.9570 - val_loss: 0.0224 - val_acc: 1.0000\n",
            "Epoch 98/150\n",
            " - 0s - loss: 0.1027 - acc: 0.9694 - val_loss: 0.0653 - val_acc: 0.9926\n",
            "Epoch 99/150\n",
            " - 0s - loss: 0.0277 - acc: 0.9973 - val_loss: 0.0134 - val_acc: 1.0000\n",
            "Epoch 100/150\n",
            " - 0s - loss: 0.0262 - acc: 0.9920 - val_loss: 0.3820 - val_acc: 0.8738\n",
            "Epoch 101/150\n",
            " - 0s - loss: 0.0347 - acc: 0.9883 - val_loss: 0.0050 - val_acc: 1.0000\n",
            "Epoch 102/150\n",
            " - 0s - loss: 0.0042 - acc: 1.0000 - val_loss: 0.0029 - val_acc: 1.0000\n",
            "Epoch 103/150\n",
            " - 1s - loss: 0.0023 - acc: 1.0000 - val_loss: 0.0021 - val_acc: 1.0000\n",
            "Epoch 104/150\n",
            " - 1s - loss: 0.0017 - acc: 1.0000 - val_loss: 0.0015 - val_acc: 1.0000\n",
            "Epoch 105/150\n",
            " - 1s - loss: 0.0013 - acc: 1.0000 - val_loss: 0.0012 - val_acc: 1.0000\n",
            "Epoch 106/150\n",
            " - 1s - loss: 0.1432 - acc: 0.9637 - val_loss: 0.2186 - val_acc: 0.9077\n",
            "Epoch 107/150\n",
            " - 1s - loss: 0.0591 - acc: 0.9790 - val_loss: 0.0132 - val_acc: 1.0000\n",
            "Epoch 108/150\n",
            " - 1s - loss: 0.0080 - acc: 0.9997 - val_loss: 0.0051 - val_acc: 1.0000\n",
            "Epoch 109/150\n",
            " - 1s - loss: 0.1933 - acc: 0.9487 - val_loss: 0.0671 - val_acc: 0.9782\n",
            "Epoch 110/150\n",
            " - 1s - loss: 0.0546 - acc: 0.9807 - val_loss: 0.0238 - val_acc: 0.9995\n",
            "Epoch 111/150\n",
            " - 1s - loss: 0.0116 - acc: 1.0000 - val_loss: 0.0656 - val_acc: 0.9662\n",
            "Epoch 112/150\n",
            " - 1s - loss: 0.1193 - acc: 0.9500 - val_loss: 0.0467 - val_acc: 0.9956\n",
            "Epoch 113/150\n",
            " - 1s - loss: 0.0169 - acc: 0.9993 - val_loss: 0.0102 - val_acc: 1.0000\n",
            "Epoch 114/150\n",
            " - 1s - loss: 0.0070 - acc: 1.0000 - val_loss: 0.0169 - val_acc: 1.0000\n",
            "Epoch 115/150\n",
            " - 1s - loss: 0.0147 - acc: 0.9967 - val_loss: 0.0074 - val_acc: 1.0000\n",
            "Epoch 116/150\n",
            " - 1s - loss: 0.1079 - acc: 0.9667 - val_loss: 0.0162 - val_acc: 1.0000\n",
            "Epoch 117/150\n",
            " - 1s - loss: 0.0188 - acc: 0.9950 - val_loss: 0.0087 - val_acc: 1.0000\n",
            "Epoch 118/150\n",
            " - 1s - loss: 0.1567 - acc: 0.9461 - val_loss: 0.2028 - val_acc: 0.8992\n",
            "Epoch 119/150\n",
            " - 1s - loss: 0.0644 - acc: 0.9770 - val_loss: 0.0166 - val_acc: 1.0000\n",
            "Epoch 120/150\n",
            " - 1s - loss: 0.1892 - acc: 0.9331 - val_loss: 0.2867 - val_acc: 0.9107\n",
            "Epoch 121/150\n",
            " - 1s - loss: 0.1006 - acc: 0.9777 - val_loss: 0.0148 - val_acc: 1.0000\n",
            "Epoch 122/150\n",
            " - 0s - loss: 0.1823 - acc: 0.9427 - val_loss: 0.0607 - val_acc: 1.0000\n",
            "Epoch 123/150\n",
            " - 0s - loss: 0.0298 - acc: 0.9987 - val_loss: 0.0145 - val_acc: 1.0000\n",
            "Epoch 124/150\n",
            " - 0s - loss: 0.0334 - acc: 0.9900 - val_loss: 0.0235 - val_acc: 0.9937\n",
            "Epoch 125/150\n",
            " - 0s - loss: 0.0122 - acc: 0.9973 - val_loss: 0.0055 - val_acc: 1.0000\n",
            "Epoch 126/150\n",
            " - 0s - loss: 0.0050 - acc: 1.0000 - val_loss: 0.0033 - val_acc: 1.0000\n",
            "Epoch 127/150\n",
            " - 0s - loss: 0.2354 - acc: 0.9194 - val_loss: 0.1097 - val_acc: 0.9618\n",
            "Epoch 128/150\n",
            " - 0s - loss: 0.0439 - acc: 0.9943 - val_loss: 0.0191 - val_acc: 1.0000\n",
            "Epoch 129/150\n",
            " - 0s - loss: 0.0121 - acc: 1.0000 - val_loss: 0.0086 - val_acc: 1.0000\n",
            "Epoch 130/150\n",
            " - 0s - loss: 0.0070 - acc: 1.0000 - val_loss: 0.0067 - val_acc: 1.0000\n",
            "Epoch 131/150\n",
            " - 0s - loss: 0.0586 - acc: 0.9777 - val_loss: 0.0103 - val_acc: 1.0000\n",
            "Epoch 132/150\n",
            " - 0s - loss: 0.0057 - acc: 1.0000 - val_loss: 0.0033 - val_acc: 1.0000\n",
            "Epoch 133/150\n",
            " - 0s - loss: 0.0033 - acc: 1.0000 - val_loss: 0.0022 - val_acc: 1.0000\n",
            "Epoch 134/150\n",
            " - 0s - loss: 0.0018 - acc: 1.0000 - val_loss: 0.0015 - val_acc: 1.0000\n",
            "Epoch 135/150\n",
            " - 0s - loss: 0.0014 - acc: 1.0000 - val_loss: 0.0013 - val_acc: 1.0000\n",
            "Epoch 136/150\n",
            " - 0s - loss: 0.0011 - acc: 1.0000 - val_loss: 0.0010 - val_acc: 1.0000\n",
            "Epoch 137/150\n",
            " - 1s - loss: 9.2924e-04 - acc: 1.0000 - val_loss: 8.2861e-04 - val_acc: 1.0000\n",
            "Epoch 138/150\n",
            " - 0s - loss: 6.9878e-04 - acc: 1.0000 - val_loss: 7.1956e-04 - val_acc: 1.0000\n",
            "Epoch 139/150\n",
            " - 0s - loss: 5.9287e-04 - acc: 1.0000 - val_loss: 8.4913e-04 - val_acc: 1.0000\n",
            "Epoch 140/150\n",
            " - 1s - loss: 5.7130e-04 - acc: 1.0000 - val_loss: 4.7457e-04 - val_acc: 1.0000\n",
            "Epoch 141/150\n",
            " - 0s - loss: 4.1621e-04 - acc: 1.0000 - val_loss: 4.4622e-04 - val_acc: 1.0000\n",
            "Epoch 142/150\n",
            " - 0s - loss: 3.5769e-04 - acc: 1.0000 - val_loss: 3.5829e-04 - val_acc: 1.0000\n",
            "Epoch 143/150\n",
            " - 0s - loss: 3.0072e-04 - acc: 1.0000 - val_loss: 3.1541e-04 - val_acc: 1.0000\n",
            "Epoch 144/150\n",
            " - 0s - loss: 2.7311e-04 - acc: 1.0000 - val_loss: 2.9969e-04 - val_acc: 1.0000\n",
            "Epoch 145/150\n",
            " - 0s - loss: 2.5146e-04 - acc: 1.0000 - val_loss: 2.5054e-04 - val_acc: 1.0000\n",
            "Epoch 146/150\n",
            " - 0s - loss: 2.2262e-04 - acc: 1.0000 - val_loss: 2.2209e-04 - val_acc: 1.0000\n",
            "Epoch 147/150\n",
            " - 0s - loss: 1.9519e-04 - acc: 1.0000 - val_loss: 1.9641e-04 - val_acc: 1.0000\n",
            "Epoch 148/150\n",
            " - 0s - loss: 1.8526e-04 - acc: 1.0000 - val_loss: 1.7644e-04 - val_acc: 1.0000\n",
            "Epoch 149/150\n",
            " - 0s - loss: 1.6352e-04 - acc: 1.0000 - val_loss: 1.6300e-04 - val_acc: 1.0000\n",
            "Epoch 150/150\n",
            " - 0s - loss: 1.4282e-04 - acc: 1.0000 - val_loss: 1.5035e-04 - val_acc: 1.0000\n",
            "[0.00015035263808927586, 1.0]\n"
          ],
          "name": "stdout"
        }
      ]
    },
    {
      "metadata": {
        "id": "CZmq6Xp82pjO",
        "colab_type": "code",
        "colab": {
          "base_uri": "https://localhost:8080/",
          "height": 34
        },
        "outputId": "8d0f85dc-0e49-4b59-d16c-54c71b60fb30"
      },
      "cell_type": "code",
      "source": [
        "print(model.predict(np.array([[(x**3*1.1)+(x**2*1.1)+2.3*x for x in range(-200,201)]])))\n",
        "\n"
      ],
      "execution_count": 57,
      "outputs": [
        {
          "output_type": "stream",
          "text": [
            "[[0. 0. 1.]]\n"
          ],
          "name": "stdout"
        }
      ]
    },
    {
      "metadata": {
        "id": "Lo6ytbM07WRv",
        "colab_type": "code",
        "colab": {
          "base_uri": "https://localhost:8080/",
          "height": 34
        },
        "outputId": "592e6ac8-52bb-49f3-9b1e-c114f09b9fe2"
      },
      "cell_type": "code",
      "source": [
        "print(model.predict(np.array([[(x**3*0.0000001)+(x**2*0.00000001)+2000.3*x for x in range(-200,201)]])))"
      ],
      "execution_count": 68,
      "outputs": [
        {
          "output_type": "stream",
          "text": [
            "[[0. 1. 0.]]\n"
          ],
          "name": "stdout"
        }
      ]
    },
    {
      "metadata": {
        "id": "Zm6Qdz277gDY",
        "colab_type": "code",
        "colab": {
          "base_uri": "https://localhost:8080/",
          "height": 34
        },
        "outputId": "8a240259-8da1-4000-b449-ca52410bfb8a"
      },
      "cell_type": "code",
      "source": [
        "print(model.predict(np.array([[(x**3*0.006)+(x**2*2000.0)+2.3*x for x in range(-200,201)]])))"
      ],
      "execution_count": 61,
      "outputs": [
        {
          "output_type": "stream",
          "text": [
            "[[0. 1. 0.]]\n"
          ],
          "name": "stdout"
        }
      ]
    },
    {
      "metadata": {
        "id": "Tseh3Gjn7dXb",
        "colab_type": "text"
      },
      "cell_type": "markdown",
      "source": [
        "Coefficients play a role"
      ]
    }
  ]
}